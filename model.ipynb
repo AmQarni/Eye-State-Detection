{
  "nbformat": 4,
  "nbformat_minor": 0,
  "metadata": {
    "colab": {
      "name": "rouf_CNN.ipynb",
      "provenance": [],
      "collapsed_sections": []
    },
    "kernelspec": {
      "display_name": "Python 3",
      "language": "python",
      "name": "python3"
    },
    "language_info": {
      "codemirror_mode": {
        "name": "ipython",
        "version": 3
      },
      "file_extension": ".py",
      "mimetype": "text/x-python",
      "name": "python",
      "nbconvert_exporter": "python",
      "pygments_lexer": "ipython3",
      "version": "3.8.11"
    },
    "accelerator": "GPU"
  },
  "cells": [
    {
      "cell_type": "code",
      "metadata": {
        "colab": {
          "base_uri": "https://localhost:8080/"
        },
        "id": "6PICyd7fH9KL",
        "outputId": "a7c47c77-6ccd-4307-f2f4-9b4bb8db8b13"
      },
      "source": [
        "from google.colab import drive\n",
        "drive.mount('/content/drive')"
      ],
      "execution_count": null,
      "outputs": [
        {
          "output_type": "stream",
          "name": "stdout",
          "text": [
            "Mounted at /content/drive\n"
          ]
        }
      ]
    },
    {
      "cell_type": "code",
      "metadata": {
        "id": "6Nz29GcAH6iK"
      },
      "source": [
        "import time\n",
        "import numpy as np \n",
        "import pandas as pd \n",
        "import os\n",
        "import cv2\n",
        "import matplotlib.pyplot as plt\n",
        "\n",
        "from skimage.transform import resize\n",
        "from skimage.io import imread, imshow\n",
        "import threading\n"
      ],
      "execution_count": null,
      "outputs": []
    },
    {
      "cell_type": "code",
      "metadata": {
        "id": "Vm-ls40xaAkB"
      },
      "source": [
        "from tensorflow.keras import layers\n",
        "from tensorflow.keras.layers import Input, Lambda, Dense, Flatten, Conv2D, MaxPooling2D, Dropout\n",
        "from tensorflow.keras.models import Model\n",
        "from tensorflow.keras.models import Sequential\n",
        "from tensorflow.keras.preprocessing.image import ImageDataGenerator\n",
        "import tensorflow as tf"
      ],
      "execution_count": null,
      "outputs": []
    },
    {
      "cell_type": "markdown",
      "metadata": {
        "id": "rVrAsyJdIMlY"
      },
      "source": [
        "# Constant"
      ]
    },
    {
      "cell_type": "code",
      "metadata": {
        "id": "AHQ_HaOkH6iO"
      },
      "source": [
        "IMG_SIZE = 48\n",
        "base = '/content/drive/MyDrive/ashraful/MP'\n",
        "dataset_dir = \"/content/drive/MyDrive/ashraful/MP/new-model\"\n",
        "\n",
        "model_dir = \"/content/drive/MyDrive/ashraful/MP/new-model/model.h5\""
      ],
      "execution_count": null,
      "outputs": []
    },
    {
      "cell_type": "markdown",
      "metadata": {
        "id": "TOALmtpbH6iW"
      },
      "source": [
        "# Dataset creation"
      ]
    },
    {
      "cell_type": "code",
      "metadata": {
        "id": "mq-lQkaF2Fx0"
      },
      "source": [
        "\n",
        "# import matplotlib.pyplot as plt\n",
        "# %matplotlib inline\n",
        "# image_gray = imread('images.jpeg', as_gray=True)\n",
        "# imshow(image_gray)\n",
        "\n",
        "dataset_base = \"/content/drive/MyDrive/ashraful/MP/mrlEyes_2018_01/mrlEyes_2018_01\"\n",
        "data = []\n",
        "labels = []\n",
        "lock = threading.Lock()\n",
        "\n",
        "def collect_image_in_thread(dir):\n",
        "    for image_path in os.listdir(dataset_base + '/' +dir):\n",
        "        # print(image_path)\n",
        "        label = int(image_path.split(\"_\")[4])\n",
        "        # print(label)\n",
        "        try:\n",
        "            img_array = imread(dataset_base + '/' +dir + '/'+image_path)\n",
        "            resized_array = resize(img_array, (IMG_SIZE, IMG_SIZE))\n",
        "            # print(resized_array.shape)\n",
        "            lock.acquire()\n",
        "            try:\n",
        "                if resized_array.shape == (IMG_SIZE, IMG_SIZE):\n",
        "                    data.append(resized_array)\n",
        "                    labels.append(label)\n",
        "                \n",
        "            except Exception as e2:\n",
        "                print(e2)\n",
        "            lock.release()\n",
        "            # break\n",
        "        except Exception as e:\n",
        "            print(e)\n",
        "\n",
        "def prepare_dataset():\n",
        "    dirs = os.listdir(dataset_base)\n",
        "    thread_list = []\n",
        "    for dir in dirs:\n",
        "        if dir.startswith(\"s0\"):\n",
        "            print(dir)\n",
        "            thread = threading.Thread(target=collect_image_in_thread, args=(dir,))\n",
        "            thread_list.append(thread)\n",
        "            thread.start()\n",
        "    for thread in thread_list:\n",
        "        thread.join()\n",
        "    return np.array(data), np.array(labels)\n",
        "\n",
        "X, y = prepare_dataset()\n",
        "X = X / 255\n",
        "\n",
        "with open(dataset_dir + '/X.np', mode='wb') as file:\n",
        "    np.save(file, X)\n",
        "with open(dataset_dir + '/y.np', mode='wb') as file:\n",
        "    np.save(file, y)\n",
        "\n",
        "print(X.shape)\n",
        "print(y.shape)"
      ],
      "execution_count": null,
      "outputs": []
    },
    {
      "cell_type": "markdown",
      "metadata": {
        "id": "v6eP3lhpH6ig"
      },
      "source": [
        "# train validation test split"
      ]
    },
    {
      "cell_type": "code",
      "metadata": {
        "id": "ltxdwRuCXt7F"
      },
      "source": [
        "# Loading data\n",
        "with open(dataset_dir + '/X.np', mode='rb') as file:\n",
        "    X = np.load(file)\n",
        "with open(dataset_dir + '/y.np', mode='rb') as file:\n",
        "    y = np.load(file)"
      ],
      "execution_count": null,
      "outputs": []
    },
    {
      "cell_type": "code",
      "metadata": {
        "id": "tQNbBYVaH6ig",
        "colab": {
          "base_uri": "https://localhost:8080/"
        },
        "outputId": "974935dc-b9dd-415d-d824-85742dbe3c53"
      },
      "source": [
        "from sklearn.model_selection import train_test_split\n",
        "seed = 0\n",
        "X_train, X2, y_train, y2 = train_test_split(X, y, random_state=seed, test_size=0.40)\n",
        "X_val, X_test, y_val, y_test = train_test_split(X2, y2, random_state=seed, test_size=0.50)\n",
        "\n",
        "X_train = np.reshape(X_train, (X_train.shape[0], IMG_SIZE, IMG_SIZE, 1))\n",
        "X_val = np.reshape(X_val, (X_val.shape[0], IMG_SIZE, IMG_SIZE, 1))\n",
        "X_test = np.reshape(X_test, (X_test.shape[0], IMG_SIZE, IMG_SIZE, 1))\n",
        "\n",
        "print(X_train.shape)\n",
        "print(y_train.shape)\n",
        "print(X_val.shape)\n",
        "print(y_val.shape)\n",
        "print(X_test.shape)\n",
        "print(y_test.shape)"
      ],
      "execution_count": null,
      "outputs": [
        {
          "output_type": "stream",
          "name": "stdout",
          "text": [
            "(109774, 48, 48, 1)\n",
            "(109774,)\n",
            "(36591, 48, 48, 1)\n",
            "(36591,)\n",
            "(36592, 48, 48, 1)\n",
            "(36592,)\n"
          ]
        }
      ]
    },
    {
      "cell_type": "markdown",
      "metadata": {
        "id": "8fYPE4CeH6ih"
      },
      "source": [
        "# Saving data"
      ]
    },
    {
      "cell_type": "code",
      "metadata": {
        "id": "5wnHz0v_H6ih"
      },
      "source": [
        "with open(dataset_dir + '/X_train.np', mode='wb') as file:\n",
        "    np.save(file, X_train)\n",
        "with open(dataset_dir + '/X_val.np', mode='wb') as file:\n",
        "    np.save(file, X_val)\n",
        "with open(dataset_dir + '/X_test.np', mode='wb') as file:\n",
        "    np.save(file, X_test)\n",
        "with open(dataset_dir + '/y_train.np', mode='wb') as file:\n",
        "    np.save(file, y_train)\n",
        "with open(dataset_dir + '/y_val.np', mode='wb') as file:\n",
        "    np.save(file, y_val)\n",
        "with open(dataset_dir + '/y_test.np', mode='wb') as file:\n",
        "    np.save(file, y_test)"
      ],
      "execution_count": null,
      "outputs": []
    },
    {
      "cell_type": "markdown",
      "metadata": {
        "id": "aX5t8Gf3t3V3"
      },
      "source": [
        "# Retrieve Data"
      ]
    },
    {
      "cell_type": "code",
      "metadata": {
        "id": "A_Q6cGaagfgO"
      },
      "source": [
        "with open(dataset_dir + '/X_train.np', mode='rb') as file:\n",
        "    X_train = np.load(file)\n",
        "with open(dataset_dir + '/X_val.np', mode='rb') as file:\n",
        "    X_val = np.load(file)\n",
        "with open(dataset_dir + '/X_test.np', mode='rb') as file:\n",
        "    X_test = np.load(file)\n",
        "with open(dataset_dir + '/y_train.np', mode='rb') as file:\n",
        "    y_train = np.load(file)\n",
        "with open(dataset_dir + '/y_val.np', mode='rb') as file:\n",
        "    y_val = np.load(file)\n",
        "with open(dataset_dir + '/y_test.np', mode='rb') as file:\n",
        "    y_test = np.load(file)"
      ],
      "execution_count": null,
      "outputs": []
    },
    {
      "cell_type": "code",
      "metadata": {
        "colab": {
          "base_uri": "https://localhost:8080/"
        },
        "id": "Ogo2e2eRFIWc",
        "outputId": "c88fc9f3-b234-49cd-abf4-1b28d8afc33a"
      },
      "source": [
        "print(X_train.shape)\n",
        "print(y_train.shape)\n",
        "print(X_val.shape)\n",
        "print(y_val.shape)\n",
        "print(X_test.shape)\n",
        "print(y_test.shape)"
      ],
      "execution_count": null,
      "outputs": [
        {
          "output_type": "stream",
          "name": "stdout",
          "text": [
            "(109774, 48, 48, 1)\n",
            "(109774,)\n",
            "(36591, 48, 48, 1)\n",
            "(36591,)\n",
            "(36592, 48, 48, 1)\n",
            "(36592,)\n"
          ]
        }
      ]
    },
    {
      "cell_type": "code",
      "metadata": {
        "colab": {
          "base_uri": "https://localhost:8080/"
        },
        "id": "wWjFag5TYp_u",
        "outputId": "0f49226b-567f-41f1-f0aa-223cf3584de6"
      },
      "source": [
        "print(\"Total Train data (cleased eye)\", sum(y_train == 0))\n",
        "print(\"Total Train data (open eye)\", sum(y_train == 1))\n",
        "print(\"Total Train data\", len(y_train))\n",
        "\n",
        "print(\"Total Validation data (cleased eye)\", sum(y_val == 0))\n",
        "print(\"Total Validation data (open eye)\", sum(y_val == 1))\n",
        "print(\"Total Validation data\", len(y_val))\n",
        "\n",
        "print(\"Total Test data (cleased eye)\", sum(y_test == 0))\n",
        "print(\"Total Test data (open eye)\", sum(y_test == 1))\n",
        "print(\"Total Test data\", len(y_test))\n",
        "\n",
        "print(\"Total data\", len(y_train) + len(y_val) + len(y_test))"
      ],
      "execution_count": null,
      "outputs": [
        {
          "output_type": "stream",
          "name": "stdout",
          "text": [
            "Total Train data (cleased eye) 58923\n",
            "Total Train data (open eye) 50851\n",
            "Total Train data 109774\n",
            "Total Validation data (cleased eye) 19694\n",
            "Total Validation data (open eye) 16897\n",
            "Total Validation data 36591\n",
            "Total Test data (cleased eye) 19475\n",
            "Total Test data (open eye) 17117\n",
            "Total Test data 36592\n",
            "Total data 182957\n"
          ]
        }
      ]
    },
    {
      "cell_type": "markdown",
      "metadata": {
        "id": "shHZM3wcgid7"
      },
      "source": [
        "# Model"
      ]
    },
    {
      "cell_type": "code",
      "metadata": {
        "id": "LncfRLQWPfcf",
        "colab": {
          "base_uri": "https://localhost:8080/"
        },
        "outputId": "c3638fc4-7bb5-4f23-f050-895a9702ac25"
      },
      "source": [
        "# Best\n",
        "model = Sequential()\n",
        "model.add(Conv2D(64, (3, 3), activation=\"relu\",\n",
        "        input_shape=X_train.shape[1:]))\n",
        "model.add(MaxPooling2D(3, 3))\n",
        "model.add(Conv2D(32, (3, 3), activation=\"relu\"))\n",
        "model.add(MaxPooling2D(3, 3))\n",
        "\n",
        "model.add(Flatten())\n",
        "model.add(Dropout(0.1))\n",
        "model.add(Dense(128, activation=\"relu\"))\n",
        "model.add(Dropout(0.1))\n",
        "model.add(Dense(64, activation=\"relu\"))\n",
        "model.add(Dense(1, activation=\"tanh\"))\n",
        "\n",
        "model.compile(loss=\"binary_crossentropy\",\n",
        "            metrics=[\"accuracy\"], optimizer=\"adam\")\n",
        "\n",
        "model.summary()"
      ],
      "execution_count": null,
      "outputs": [
        {
          "output_type": "stream",
          "name": "stdout",
          "text": [
            "Model: \"sequential_2\"\n",
            "_________________________________________________________________\n",
            " Layer (type)                Output Shape              Param #   \n",
            "=================================================================\n",
            " conv2d (Conv2D)             (None, 46, 46, 64)        640       \n",
            "                                                                 \n",
            " max_pooling2d (MaxPooling2D  (None, 15, 15, 64)       0         \n",
            " )                                                               \n",
            "                                                                 \n",
            " conv2d_1 (Conv2D)           (None, 13, 13, 32)        18464     \n",
            "                                                                 \n",
            " max_pooling2d_1 (MaxPooling  (None, 4, 4, 32)         0         \n",
            " 2D)                                                             \n",
            "                                                                 \n",
            " flatten (Flatten)           (None, 512)               0         \n",
            "                                                                 \n",
            " dropout (Dropout)           (None, 512)               0         \n",
            "                                                                 \n",
            " dense (Dense)               (None, 128)               65664     \n",
            "                                                                 \n",
            " dropout_1 (Dropout)         (None, 128)               0         \n",
            "                                                                 \n",
            " dense_1 (Dense)             (None, 64)                8256      \n",
            "                                                                 \n",
            " dense_2 (Dense)             (None, 1)                 65        \n",
            "                                                                 \n",
            "=================================================================\n",
            "Total params: 93,089\n",
            "Trainable params: 93,089\n",
            "Non-trainable params: 0\n",
            "_________________________________________________________________\n"
          ]
        }
      ]
    },
    {
      "cell_type": "code",
      "metadata": {
        "id": "BRxt7-ztTewI"
      },
      "source": [
        "history = model.fit(X_train, \n",
        "                    y_train, \n",
        "                    validation_data=(X_val, y_val),\n",
        "                    epochs=20, \n",
        "                    batch_size=64)\n"
      ],
      "execution_count": null,
      "outputs": []
    },
    {
      "cell_type": "code",
      "metadata": {
        "colab": {
          "base_uri": "https://localhost:8080/",
          "height": 513
        },
        "id": "iPVILg-idAZD",
        "outputId": "46957230-ec50-46e5-dfe4-12f8ffd303ac"
      },
      "source": [
        "accuracy = history.history['accuracy']\n",
        "val_accuracy = history.history['val_accuracy']\n",
        "loss = history.history['loss']\n",
        "val_loss = history.history['val_loss']\n",
        "\n",
        "epochs = range(len(accuracy))\n",
        "\n",
        "plt.plot(epochs, accuracy, \"b\", label=\"trainning accuracy\")\n",
        "plt.plot(epochs, val_accuracy, \"r\", label=\"validation accuracy\")\n",
        "plt.legend()\n",
        "plt.show()\n",
        "\n",
        "plt.plot(epochs, loss, \"b\", label=\"trainning loss\")\n",
        "plt.plot(epochs, val_loss, \"r\", label=\"validation loss\")\n",
        "plt.legend()\n",
        "plt.show()\n"
      ],
      "execution_count": null,
      "outputs": [
        {
          "output_type": "display_data",
          "data": {
            "image/png": "[encoded data removed]",
            "text/plain": [
              "<Figure size 432x288 with 1 Axes>"
            ]
          },
          "metadata": {
            "needs_background": "light"
          }
        },
        {
          "output_type": "display_data",
          "data": {
            "image/png": "[encoded data removed]",
            "text/plain": [
              "<Figure size 432x288 with 1 Axes>"
            ]
          },
          "metadata": {
            "needs_background": "light"
          }
        }
      ]
    },
    {
      "cell_type": "code",
      "metadata": {
        "colab": {
          "base_uri": "https://localhost:8080/"
        },
        "id": "A_WpXCLdIOxr",
        "outputId": "f8e39570-04f7-43b0-aaa0-0d7fbc388493"
      },
      "source": [
        "prediction = model.predict(X_test)\n",
        "prediction = (prediction > 0) * 1\n",
        "\n",
        "labels = [\"Closed\", \"Open\"]\n",
        "\n",
        "from sklearn.metrics import classification_report\n",
        "print(classification_report(y_test, prediction, target_names=labels))\n",
        "\n",
        "model.evaluate(x=X_test, y=y_test)"
      ],
      "execution_count": null,
      "outputs": [
        {
          "output_type": "stream",
          "name": "stdout",
          "text": [
            "              precision    recall  f1-score   support\n",
            "\n",
            "      Closed       1.00      0.84      0.91     19475\n",
            "        Open       0.85      1.00      0.92     17117\n",
            "\n",
            "    accuracy                           0.92     36592\n",
            "   macro avg       0.92      0.92      0.92     36592\n",
            "weighted avg       0.93      0.92      0.92     36592\n",
            "\n",
            "1144/1144 [==============================] - 3s 3ms/step - loss: 0.0639 - accuracy: 0.9785\n"
          ]
        },
        {
          "output_type": "execute_result",
          "data": {
            "text/plain": [
              "[0.06388749927282333, 0.9784652590751648]"
            ]
          },
          "metadata": {},
          "execution_count": 100
        }
      ]
    },
    {
      "cell_type": "markdown",
      "metadata": {
        "id": "4x06Rku1uG1p"
      },
      "source": [
        "# Model save and retrieve"
      ]
    },
    {
      "cell_type": "code",
      "metadata": {
        "id": "aEB04SRu5zIY"
      },
      "source": [
        "# Saving\n",
        "model.save(model_dir)"
      ],
      "execution_count": null,
      "outputs": []
    },
    {
      "cell_type": "code",
      "metadata": {
        "id": "aaZGhXWXY8ks"
      },
      "source": [
        "# Retrieving\n",
        "model = tf.keras.models.load_model(model_dir)"
      ],
      "execution_count": null,
      "outputs": []
    },
    {
      "cell_type": "code",
      "metadata": {
        "colab": {
          "base_uri": "https://localhost:8080/"
        },
        "id": "xMdatD6MVBQP",
        "outputId": "96d7c0dc-cd53-4513-80dc-68dcf134ab3e"
      },
      "source": [
        "model.evaluate(x=X_test, y=y_test)"
      ],
      "execution_count": null,
      "outputs": [
        {
          "output_type": "stream",
          "name": "stdout",
          "text": [
            "1144/1144 [==============================] - 3s 3ms/step - loss: 0.0639 - accuracy: 0.9785\n"
          ]
        },
        {
          "output_type": "execute_result",
          "data": {
            "text/plain": [
              "[0.06388749927282333, 0.9784652590751648]"
            ]
          },
          "metadata": {},
          "execution_count": 94
        }
      ]
    },
    {
      "cell_type": "markdown",
      "metadata": {
        "id": "NuPzXN4CvIlw"
      },
      "source": [
        "# Model Prediction"
      ]
    },
    {
      "cell_type": "code",
      "metadata": {
        "id": "yLveMpuNdL8L",
        "colab": {
          "base_uri": "https://localhost:8080/"
        },
        "outputId": "e0ba476d-b8a1-4736-dc55-1818c7be3f97"
      },
      "source": [
        "model_dir = \"/content/drive/MyDrive/ashraful/MP/new-model/model.h5\"\n",
        "labels = [\"Closed\", \"Open\"]\n",
        "IMG_SIZE = 48\n",
        "\n",
        "model = tf.keras.models.load_model(model_dir)\n",
        "model.summary()\n",
        "\n",
        "def prepare(filepath):\n",
        "    img_array = imread(filepath)\n",
        "    print(img_array.shape)\n",
        "    resized_array = resize(img_array, (1, IMG_SIZE, IMG_SIZE, 1))\n",
        "    resized_array = resized_array / 255\n",
        "    print(resized_array.shape)\n",
        "    return resized_array"
      ],
      "execution_count": null,
      "outputs": [
        {
          "output_type": "stream",
          "name": "stdout",
          "text": [
            "Model: \"sequential_51\"\n",
            "_________________________________________________________________\n",
            " Layer (type)                Output Shape              Param #   \n",
            "=================================================================\n",
            " conv2d_102 (Conv2D)         (None, 46, 46, 64)        640       \n",
            "                                                                 \n",
            " max_pooling2d_102 (MaxPooli  (None, 15, 15, 64)       0         \n",
            " ng2D)                                                           \n",
            "                                                                 \n",
            " conv2d_103 (Conv2D)         (None, 13, 13, 32)        18464     \n",
            "                                                                 \n",
            " max_pooling2d_103 (MaxPooli  (None, 4, 4, 32)         0         \n",
            " ng2D)                                                           \n",
            "                                                                 \n",
            " flatten_51 (Flatten)        (None, 512)               0         \n",
            "                                                                 \n",
            " dropout_98 (Dropout)        (None, 512)               0         \n",
            "                                                                 \n",
            " dense_152 (Dense)           (None, 128)               65664     \n",
            "                                                                 \n",
            " dropout_99 (Dropout)        (None, 128)               0         \n",
            "                                                                 \n",
            " dense_153 (Dense)           (None, 64)                8256      \n",
            "                                                                 \n",
            " dense_154 (Dense)           (None, 1)                 65        \n",
            "                                                                 \n",
            "=================================================================\n",
            "Total params: 93,089\n",
            "Trainable params: 93,089\n",
            "Non-trainable params: 0\n",
            "_________________________________________________________________\n"
          ]
        }
      ]
    },
    {
      "cell_type": "code",
      "metadata": {
        "id": "e1e9DfJCvc4y"
      },
      "source": [
        "def predict(filepath):\n",
        "    prediction = model.predict(prepare(filepath))\n",
        "    return labels[((prediction > 1)*0)[0][0]]"
      ],
      "execution_count": null,
      "outputs": []
    },
    {
      "cell_type": "code",
      "metadata": {
        "colab": {
          "base_uri": "https://localhost:8080/",
          "height": 384
        },
        "id": "4IEpbqcrdP1_",
        "outputId": "b2e7535a-952c-4d5f-c566-18d81a25a93a"
      },
      "source": [
        "start = time.time()\n",
        "image_path = \"/content/drive/MyDrive/ashraful/MP/mrlEyes_2018_01/mrlEyes_2018_01/s0017/s0017_00001_1_0_0_0_0_01.png\"\n",
        "prediction = predict(image_path)\n",
        "end = time.time()\n",
        "\n",
        "print(\"Prediction\", prediction)\n",
        "print(\"Time\", end-start)\n",
        "\n",
        "imshow(image_path)"
      ],
      "execution_count": null,
      "outputs": [
        {
          "output_type": "stream",
          "name": "stdout",
          "text": [
            "(87, 87)\n",
            "(1, 48, 48, 1)\n",
            "Prediction Closed\n",
            "Time 0.047602176666259766\n"
          ]
        },
        {
          "output_type": "execute_result",
          "data": {
            "text/plain": [
              "<matplotlib.image.AxesImage at 0x7f9968bf7910>"
            ]
          },
          "metadata": {},
          "execution_count": 105
        },
        {
          "output_type": "display_data",
          "data": {
            "image/png": "[encoded data removed]",
            "text/plain": [
              "<Figure size 432x288 with 1 Axes>"
            ]
          },
          "metadata": {
            "needs_background": "light"
          }
        }
      ]
    }
  ]
}